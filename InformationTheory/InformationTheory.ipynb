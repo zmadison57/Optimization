{
 "cells": [
  {
   "cell_type": "markdown",
   "metadata": {},
   "source": [
    "# Information Theory\n",
    "## September 27th, 2022\n",
    "### Overview: Maximizing entropy in order to most efficiently solve the game Wordle"
   ]
  },
  {
   "cell_type": "code",
   "execution_count": 1,
   "metadata": {},
   "outputs": [],
   "source": [
    "import numpy as np\n",
    "import wordle"
   ]
  },
  {
   "cell_type": "code",
   "execution_count": 2,
   "metadata": {},
   "outputs": [],
   "source": [
    "# Problem 1\n",
    "def get_guess_result(true_word, guess):\n",
    "    \"\"\"\n",
    "    Returns an array containing the result of a guess, with the return values as follows:\n",
    "        2 - correct location of the letter\n",
    "        1 - incorrect location but present in word\n",
    "        0 - not present in word\n",
    "    For example, if the true word is \"boxed\" and the provided guess is \"excel\", the \n",
    "    function should return [0,1,0,2,0].\n",
    "    \n",
    "    Arguments:\n",
    "        true_word (string) - the secret word\n",
    "        guess (string) - the guess being made\n",
    "    Returns:\n",
    "        result (array of integers) - the result of the guess, as described above\n",
    "    \"\"\"\n",
    "    #cast words to arrays\n",
    "    truth = np.array(list(true_word))\n",
    "    garray = np.array(list(guess))\n",
    "    \n",
    "    #will use indices for masking\n",
    "    inds = np.arange(5)\n",
    "    \n",
    "    #first find all exact matches\n",
    "    mask = truth == garray\n",
    "    result = 2*mask\n",
    "    \n",
    "    #if this guess was correct, just return\n",
    "    if all(mask): return result\n",
    "    \n",
    "    #remaining letters of true word\n",
    "    rem_truth = truth[~mask]\n",
    "    \n",
    "    #next fill in 1s\n",
    "    #for each character and its corresponding index in the guess array\n",
    "    for i, char in enumerate(garray):\n",
    "        #if the index is one of the non-matching indices \n",
    "         #and the corresponding character is in the non-matched portion of the true word, \n",
    "            #set result at that index to 1\n",
    "        if i in inds[~mask] and char in rem_truth: \n",
    "            #make 'yellow' in wordle context\n",
    "            result[i] = 1\n",
    "            #remove char from the remaining letters of truth\n",
    "            ind = np.where(rem_truth==char)[0][0]\n",
    "            rem_truth = np.delete(rem_truth, ind)\n",
    "            \n",
    "    #in the above we do not want to check if the character is in a[~mask] bc... idr\n",
    "            \n",
    "    return result"
   ]
  },
  {
   "cell_type": "code",
   "execution_count": 3,
   "metadata": {},
   "outputs": [],
   "source": [
    "# Problem 2\n",
    "def load_words(filen):\n",
    "    \"\"\"\n",
    "    Loads all of the words from the given file, ensuring that they \n",
    "    are formatted correctly.\n",
    "    \"\"\"\n",
    "    with open(filen, 'r') as file:\n",
    "        # Get all 5-letter words\n",
    "        words = [line.strip() for line in file.readlines() if len(line.strip()) == 5]\n",
    "    return words"
   ]
  },
  {
   "cell_type": "code",
   "execution_count": 4,
   "metadata": {},
   "outputs": [],
   "source": [
    "possible_words = load_words('possible_words.txt')\n",
    "allowed_words = load_words('allowed_words.txt')"
   ]
  },
  {
   "cell_type": "markdown",
   "metadata": {},
   "source": [
    "## The following 4 cells create, save, and load a file that is much too large to include in this upload."
   ]
  },
  {
   "cell_type": "code",
   "execution_count": 5,
   "metadata": {},
   "outputs": [],
   "source": [
    "def get_all_guess_results(possible_words, allowed_words):\n",
    "    \"\"\"\n",
    "    Calculates the result of making every guess for every possible secret word\n",
    "    \n",
    "    Arguments:\n",
    "        possible_words (list of strings)\n",
    "            A list of all possible secret words\n",
    "        allowed_words (list of strings)\n",
    "            A list of all allowed guesses\n",
    "    Returns:\n",
    "        ((n,m,5) ndarray) - the results of each guess for each secret word,\n",
    "            where n is the the number\n",
    "            of allowed guesses and m is number of possible secret words.\n",
    "    \"\"\"\n",
    "    #initialize the final 3d array\n",
    "    ARRAY = []\n",
    "    \n",
    "    #for each word allowed to be guessed\n",
    "    for allowed_word in allowed_words:\n",
    "        #initialize intermediate 2d array\n",
    "        array = []\n",
    "        \n",
    "        #for each word that could be the secret word\n",
    "        for poss_word in possible_words:\n",
    "            #get the guess result, append to 2d array\n",
    "            array.append( get_guess_result(poss_word,allowed_word))\n",
    "            \n",
    "        #append 2d array to 3d array\n",
    "        ARRAY.append(np.array(array))\n",
    "            \n",
    "    return np.array(ARRAY)"
   ]
  },
  {
   "cell_type": "code",
   "execution_count": 6,
   "metadata": {},
   "outputs": [],
   "source": [
    "#created_big = get_all_guess_results(possible,allowed)"
   ]
  },
  {
   "cell_type": "code",
   "execution_count": 7,
   "metadata": {},
   "outputs": [],
   "source": [
    "#np.save('all_guess_results',created_big)"
   ]
  },
  {
   "cell_type": "code",
   "execution_count": 8,
   "metadata": {},
   "outputs": [],
   "source": [
    "#big = np.load('all_guess_results.npy')"
   ]
  },
  {
   "cell_type": "code",
   "execution_count": 9,
   "metadata": {},
   "outputs": [],
   "source": [
    "# Problem 3\n",
    "def compute_highest_entropy(all_guess_results, allowed_words):\n",
    "    \"\"\"\n",
    "    Compute the entropy of each guess.\n",
    "    \n",
    "    Arguments:\n",
    "        all_guess_results ((n,m,5) ndarray) - the output of the function\n",
    "            from Problem 2, containing the results of each \n",
    "            guess for each secret word, where n is the the number\n",
    "            of allowed guesses and m is number of possible secret words.\n",
    "        allowed_words (list of strings) - list of the allowed guesses\n",
    "    Returns:\n",
    "        (string) The highest-entropy guess\n",
    "        (int) Index of the highest-entropy guess\n",
    "    \"\"\"\n",
    "    #make an array of 3^i for each index in [0,4]\n",
    "    powers = np.array([3**i for i in range(5)])\n",
    "    \n",
    "    #get base 3 interpretations of all guess results\n",
    "    base3 = np.sum(powers*all_guess_results,axis=2)\n",
    "    \n",
    "    #init list to hold entropies\n",
    "    entropies = []\n",
    "    \n",
    "    #for each allowed word that's been converted to base3\n",
    "    for row in base3:\n",
    "        #get the unique values and the number of their occurrences\n",
    "        values, counts = np.unique(row,return_counts=True)\n",
    "        \n",
    "        #divide all the counts by the total number of counts\n",
    "        fracs = counts/counts.sum()\n",
    "        #get an array of negative log_2\n",
    "        logs = -np.log2(fracs)\n",
    "        \n",
    "        #calculate the entropy, append\n",
    "        entropy = (fracs*logs).sum()\n",
    "        entropies.append(entropy)\n",
    "    \n",
    "    #get index of max entropy\n",
    "    argmax = np.argmax(entropies)\n",
    "    \n",
    "    return allowed_words[argmax], argmax"
   ]
  },
  {
   "cell_type": "markdown",
   "metadata": {},
   "source": [
    "### The highest entropy word to initially guess is \"soare\""
   ]
  },
  {
   "cell_type": "code",
   "execution_count": 11,
   "metadata": {},
   "outputs": [
    {
     "data": {
      "text/plain": [
       "'soare'"
      ]
     },
     "execution_count": 11,
     "metadata": {},
     "output_type": "execute_result"
    }
   ],
   "source": [
    "word, arg = compute_highest_entropy(big, allowed_words)\n",
    "word"
   ]
  },
  {
   "cell_type": "code",
   "execution_count": 12,
   "metadata": {},
   "outputs": [],
   "source": [
    "# Problem 4\n",
    "def filter_words(all_guess_results, possible_words, guess_idx, result):\n",
    "    \"\"\"\n",
    "    Create a function that filters the list of possible words after making a guess.\n",
    "    Since we already computed the result of all guesses for all possible words in \n",
    "    Problem 2, we will use this array instead of recomputing the results.\n",
    "    \n",
    "\tReturn a filtered list of possible words that are still possible after \n",
    "    knowing the result of a guess. Also return a filtered version of the array\n",
    "    of all guess results that only contains the results for the secret words \n",
    "    still possible after making the guess. This array will be used to compute \n",
    "    the entropies for making the next guess.\n",
    "    \n",
    "    Arguments:\n",
    "        all_guess_results (3-D ndarray)\n",
    "            The output of Problem 2, containing the result of making\n",
    "            any allowed guess for any possible secret word\n",
    "        possible_words (list of str)\n",
    "            The list of possible secret words\n",
    "        guess_idx (int)\n",
    "            The index of the guess that was made in the list of allowed guesses.\n",
    "        result (tuple of int)\n",
    "            The result of the guess\n",
    "    Returns:\n",
    "        (list of str) The filtered list of possible secret words\n",
    "        (3-D ndarray) The filtered array of guess results\n",
    "    \"\"\"\n",
    "    #access the big array at the index of the guessed word: is now a 2d matrix of results with each possible word\n",
    "    all_poss = all_guess_results[guess_idx]\n",
    "    \n",
    "    #make an array of 3^i for each index in [0,4]\n",
    "    powers = np.array([3**i for i in range(5)])\n",
    "    \n",
    "    #get indices of matched rows\n",
    "    inds = np.argwhere(np.sum(all_poss*powers,axis=1) == np.sum(result*powers)).flatten()\n",
    "    \n",
    "    \n",
    "    return np.array(possible_words)[inds].tolist(), all_guess_results[:,inds]"
   ]
  },
  {
   "cell_type": "code",
   "execution_count": 13,
   "metadata": {},
   "outputs": [],
   "source": [
    "# Problem 5\n",
    "def play_game_naive(game, all_guess_results, possible_words, allowed_words, word=None, display=False,):\n",
    "    \"\"\"\n",
    "    Plays a game of Wordle using the strategy of making guesses at random.\n",
    "    \n",
    "    Return how many guesses were used.\n",
    "    \n",
    "    Arguments:\n",
    "        game (wordle.WordleGame)\n",
    "            the Wordle game object\n",
    "        all_guess_results ((n,m,5) ndarray)\n",
    "            an array as outputted by problem 2 containing the results of every guess for every secret word.\n",
    "        possible_words (list of str)\n",
    "            list of possible secret words\n",
    "        allowed_words (list of str)\n",
    "            list of allowed guesses\n",
    "        \n",
    "        word (optional)\n",
    "            If not None, this is the secret word; can be used for testing. \n",
    "        display (bool)\n",
    "            If true, output will be printed to the terminal by the game.\n",
    "    Returns:\n",
    "        (int) Number of guesses made\n",
    "    \"\"\"\n",
    "    # Initialize the game\n",
    "    game.start_game(word=word, display=display)\n",
    "    \n",
    "    while not game.game_finished:\n",
    "        guess = input('input guess: ')\n",
    "        \n",
    "        if guess == 'random':\n",
    "            guess = np.random.choice(allowed_words)\n",
    "        game.make_guess(guess,display=True)\n",
    "        \n",
    "    return game.guess_ct"
   ]
  },
  {
   "cell_type": "code",
   "execution_count": 14,
   "metadata": {},
   "outputs": [],
   "source": [
    "game = wordle.WordleGame()"
   ]
  },
  {
   "cell_type": "code",
   "execution_count": 15,
   "metadata": {},
   "outputs": [],
   "source": [
    "# Problem 6\n",
    "def play_game_entropy(game, all_guess_results, possible_words, allowed_words, word=None, display=False):\n",
    "    \"\"\"\n",
    "    Plays a game of Wordle using the strategy of guessing the maximum-entropy guess.\n",
    "    \n",
    "    Return how many guesses were used.\n",
    "    \n",
    "    Arguments:\n",
    "        game (wordle.WordleGame)\n",
    "            the Wordle game object\n",
    "        all_guess_results ((n,m,5) ndarray)\n",
    "            an array as outputted by problem 2 containing the results of every guess for every secret word.\n",
    "        possible_words (list of str)\n",
    "            list of possible secret words\n",
    "        allowed_words (list of str)\n",
    "            list of allowed guesses\n",
    "        \n",
    "        word (optional)\n",
    "            If not None, this is the secret word; can be used for testing. \n",
    "        display (bool)\n",
    "            If true, output will be printed to the terminal by the game.\n",
    "    Returns:\n",
    "        (int) Number of guesses made\n",
    "    \"\"\"\n",
    "    # Initialize the game\n",
    "    game.start_game(word=word, display=display)\n",
    "    \n",
    "    #copy all these results because they need to be modified\n",
    "    guess_rslts = all_guess_results.copy()\n",
    "    poss_words = possible_words.copy()\n",
    "    allow_words = allowed_words.copy()\n",
    "    \n",
    "    #while the game is still going\n",
    "    while not game.game_finished:   \n",
    "        guess = input(\"Type 'e' for entropy based guess: \")\n",
    "        if guess == \"e\":\n",
    "            #if we know the word, guess it\n",
    "            if len(poss_words) == 1:\n",
    "                guess = poss_words[0]\n",
    "                \n",
    "            #otherwise guess highest entropy word\n",
    "            else:\n",
    "                #if we've already made a guess and got its result, filter\n",
    "                if game.guess_ct > 0:\n",
    "                    poss_words, guess_rslts = filter_words(guess_rslts, poss_words, guess_idx, result)\n",
    "                \n",
    "                #get guess using highest entropy\n",
    "                guess, guess_idx = compute_highest_entropy(guess_rslts, allow_words)\n",
    "\n",
    "        result = game.make_guess(guess)[0]\n",
    "    return game.guess_ct"
   ]
  },
  {
   "cell_type": "code",
   "execution_count": 19,
   "metadata": {},
   "outputs": [
    {
     "name": "stdin",
     "output_type": "stream",
     "text": [
      "Type 'e' for entropy based guess:  e\n"
     ]
    },
    {
     "name": "stdout",
     "output_type": "stream",
     "text": [
      "      ---+++---\n",
      " s  o -a-+r+-e-\n",
      "      ---+++---\n"
     ]
    },
    {
     "name": "stdin",
     "output_type": "stream",
     "text": [
      "Type 'e' for entropy based guess:  e\n"
     ]
    },
    {
     "name": "stdout",
     "output_type": "stream",
     "text": [
      "++++++---   ---\n",
      "+a++l+-t- a -r-\n",
      "++++++---   ---\n"
     ]
    },
    {
     "name": "stdin",
     "output_type": "stream",
     "text": [
      "Type 'e' for entropy based guess:  e\n"
     ]
    },
    {
     "name": "stdout",
     "output_type": "stream",
     "text": [
      "+++      ---   \n",
      "+a+ a  h -e- d \n",
      "+++      ---   \n"
     ]
    },
    {
     "name": "stdin",
     "output_type": "stream",
     "text": [
      "Type 'e' for entropy based guess:  e\n"
     ]
    },
    {
     "name": "stdout",
     "output_type": "stream",
     "text": [
      "+++++++++++++++\n",
      "+a++l++e++r++t+\n",
      "+++++++++++++++\n",
      "Congratulations!\n",
      "Number of guesses: 4\n"
     ]
    },
    {
     "data": {
      "text/plain": [
       "4"
      ]
     },
     "execution_count": 19,
     "metadata": {},
     "output_type": "execute_result"
    }
   ],
   "source": [
    "play_game_entropy(game,big,possible_words,allowed_words,word='alert',display=True)"
   ]
  }
 ],
 "metadata": {
  "kernelspec": {
   "display_name": "Python 3",
   "language": "python",
   "name": "python3"
  },
  "language_info": {
   "codemirror_mode": {
    "name": "ipython",
    "version": 3
   },
   "file_extension": ".py",
   "mimetype": "text/x-python",
   "name": "python",
   "nbconvert_exporter": "python",
   "pygments_lexer": "ipython3",
   "version": "3.7.3"
  }
 },
 "nbformat": 4,
 "nbformat_minor": 4
}
