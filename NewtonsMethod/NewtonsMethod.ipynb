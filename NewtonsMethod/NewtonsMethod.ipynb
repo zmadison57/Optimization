{
 "cells": [
  {
   "cell_type": "markdown",
   "metadata": {},
   "source": [
    "# Newton's Method\n",
    "## February 1st, 2022\n",
    "### Overview: Using Newton's Method to converge quadratically to roots of functions"
   ]
  },
  {
   "cell_type": "code",
   "execution_count": 1,
   "metadata": {},
   "outputs": [],
   "source": [
    "import numpy as np\n",
    "from scipy import linalg as la\n",
    "from matplotlib import pyplot as plt"
   ]
  },
  {
   "cell_type": "code",
   "execution_count": 2,
   "metadata": {},
   "outputs": [],
   "source": [
    "# Problems 1, 3, and 5\n",
    "def newton(f, x0, Df, tol=1e-5, maxiter=15, alpha=1.,check_con=True):\n",
    "    \"\"\"Use Newton's method to approximate a zero of the function f.\n",
    "\n",
    "    Parameters:\n",
    "        f (function): a function from R^n to R^n (assume n=1 until Problem 5).\n",
    "        x0 (float or ndarray): The initial guess for the zero of f.\n",
    "        Df (function): The derivative of f, a function from R^n to R^(nxn).\n",
    "        tol (float): Convergence tolerance. The function should returns when\n",
    "            the difference between successive approximations is less than tol.\n",
    "        maxiter (int): The maximum number of iterations to compute.\n",
    "        alpha (float): Backtracking scalar (Problem 3).\n",
    "\n",
    "    Returns:\n",
    "        (float or ndarray): The approximation for a zero of f.\n",
    "        (bool): Whether or not Newton's method converged.\n",
    "        (int): The number of iterations computed.\n",
    "    \"\"\"\n",
    "    #initializing converged boolean as false\n",
    "    converged = False\n",
    "    \n",
    "    #running Newton's method on scalar function\n",
    "    if np.isscalar(x0):\n",
    "        for k in range(maxiter):\n",
    "            x1 = x0\n",
    "            x0 = x0 - alpha*f(x0)/Df(x0)\n",
    "            \n",
    "            if check_con:\n",
    "                if abs(x1 - x0)<tol:\n",
    "                    #if tolerance reached, set converged to true and break\n",
    "                    converged = True\n",
    "                    break\n",
    "    \n",
    "    #running Newton's method on vector function\n",
    "    else:\n",
    "        for k in range(maxiter):\n",
    "            x1 = x0\n",
    "            #solving system Df*y=f instead of directly calculating Df_inv\n",
    "            yk = la.solve(Df(x0),f(x0))\n",
    "            x0 = x0 - alpha*yk\n",
    "            \n",
    "            if check_con:\n",
    "                if np.linalg.norm(x1 - x0)<tol:\n",
    "                    #if tolerance reached, set converged to true and break\n",
    "                    converged = True\n",
    "                    break\n",
    "    \n",
    "    return x0, converged, k"
   ]
  },
  {
   "cell_type": "code",
   "execution_count": 3,
   "metadata": {},
   "outputs": [],
   "source": [
    "def newton2(f, x0, Df, tol=1e-5, maxiter=15, alpha=1.):\n",
    "    \"\"\"Use Newton's method to approximate a zero of the function f.\n",
    "    Parameters:\n",
    "        f (function): a function from R^n to R^n (assume n=1 until Problem 5).\n",
    "        x0 (float or ndarray): The initial guess for the zero of f.\n",
    "        Df (function): The derivative of f, a function from R^n to R^(nxn).\n",
    "        tol (float): Convergence tolerance. The function should returns when\n",
    "            the difference between successive approximations is less than tol.\n",
    "        maxiter (int): The maximum number of iterations to compute.\n",
    "        alpha (float): Backtracking scalar (Problem 3).\n",
    "    Returns:\n",
    "        (float or ndarray): The approximation for a zero of f.\n",
    "        (bool): Whether or not Newton's method converged.\n",
    "        (int): The number of iterations computed.\n",
    "    \"\"\"\n",
    "       #maybe...\n",
    "    if np.isscalar(x0):\n",
    "        iter = 0\n",
    "        converges = False\n",
    "        for k in range(maxiter):     #looping through the x's a maxiter amount of times\n",
    "            iter += 1\n",
    "            x1= x0 - alpha*f(x0)/Df(x0)     #multiplied the alpha\n",
    "            if abs(x1 - x0) < tol:        #checking if its less than the tolerance\n",
    "                converges = True\n",
    "                break                    #then the convergence is true\n",
    "            x0 = x1\n",
    "    else:\n",
    "        iter = 0\n",
    "        converges = False\n",
    "        for k in range(maxiter):\n",
    "            ########\n",
    "            x1 = x0\n",
    "            ########\n",
    "            iter +=1\n",
    "            y0 = la.solve(Df(x0), f(x0))     #doing same thing for when n > 1, so x is not a scalar\n",
    "            #x1 = x0 - alpha* la.solve(Df(x0), f(x0))\n",
    "            x0 = x0 - alpha* la.solve(Df(x0), f(x0))\n",
    "\n",
    "            if la.norm(x1-x0)< tol:\n",
    "                converges = True\n",
    "                break\n",
    "        x0 = x1\n",
    "    return x1, converges, iter"
   ]
  },
  {
   "cell_type": "code",
   "execution_count": 4,
   "metadata": {},
   "outputs": [],
   "source": [
    "f = lambda x: np.exp(x) - 2\n",
    "Df = lambda x: np.exp(x)"
   ]
  },
  {
   "cell_type": "code",
   "execution_count": 5,
   "metadata": {},
   "outputs": [],
   "source": [
    "# Problem 2\n",
    "def prob2(N1, N2, P1, P2):\n",
    "    \"\"\"Use Newton's method to solve for the constant r that satisfies\n",
    "\n",
    "                P1[(1+r)**N1 - 1] = P2[1 - (1+r)**(-N2)].\n",
    "\n",
    "    Use r_0 = 0.1 for the initial guess.\n",
    "\n",
    "    Parameters:\n",
    "        P1 (float): Amount of money deposited into account at the beginning of\n",
    "            years 1, 2, ..., N1.\n",
    "        P2 (float): Amount of money withdrawn at the beginning of years N1+1,\n",
    "            N1+2, ..., N1+N2.\n",
    "        N1 (int): Number of years money is deposited.\n",
    "        N2 (int): Number of years money is withdrawn.\n",
    "\n",
    "    Returns:\n",
    "        (float): the value of r that satisfies the equation.\n",
    "    \"\"\"\n",
    "    #defining f and its derivative\n",
    "    f = lambda r: (P1 * ((1+r)**N1 - 1)) - (P2 * (1 - (1+r)**-N2))\n",
    "    Df = lambda r: P1*N1*((1+r)**(N1-1)) + P2*N2*((1+r)**(-N2-1))\n",
    "    \n",
    "    #returning the zero\n",
    "    return newton2(f,0.1,Df,maxiter=200,tol=1e-10)[0]"
   ]
  },
  {
   "cell_type": "code",
   "execution_count": 6,
   "metadata": {
    "scrolled": true
   },
   "outputs": [
    {
     "data": {
      "text/plain": [
       "0.038778432135107684"
      ]
     },
     "execution_count": 6,
     "metadata": {},
     "output_type": "execute_result"
    }
   ],
   "source": [
    "prob2(30,20,2000,8000)"
   ]
  },
  {
   "cell_type": "code",
   "execution_count": 7,
   "metadata": {},
   "outputs": [
    {
     "data": {
      "text/plain": [
       "(6.400000000000134e-07, True, 5)"
      ]
     },
     "execution_count": 7,
     "metadata": {},
     "output_type": "execute_result"
    }
   ],
   "source": [
    "f = lambda x: np.sign(x) * np.power(np.abs(x), 1./3)\n",
    "Df = lambda x: (1./3) * np.power(np.abs(x),-2./3)\n",
    "newton(f,0.01,Df,alpha=0.4)"
   ]
  },
  {
   "cell_type": "code",
   "execution_count": 8,
   "metadata": {},
   "outputs": [],
   "source": [
    "# Problem 4\n",
    "def optimal_alpha(f, x0, Df, tol=1e-5, maxiter=15):\n",
    "    \"\"\"Run Newton's method for various values of alpha in (0,1].\n",
    "    Plot the alpha value against the number of iterations until convergence.\n",
    "\n",
    "    Parameters:\n",
    "        f (function): a function from R^n to R^n (assume n=1 until Problem 5).\n",
    "        x0 (float or ndarray): The initial guess for the zero of f.\n",
    "        Df (function): The derivative of f, a function from R^n to R^(nxn).\n",
    "        tol (float): Convergence tolerance. The function should returns when\n",
    "            the difference between successive approximations is less than tol.\n",
    "        maxiter (int): The maximum number of iterations to compute.\n",
    "\n",
    "    Returns:\n",
    "        (float): a value for alpha that results in the lowest number of\n",
    "            iterations.\n",
    "    \"\"\"\n",
    "    #list for holding number of iterations per alpha and alphas list\n",
    "    break_points = []\n",
    "    alphas = np.linspace(0,1,1001)[1:]\n",
    "    \n",
    "    #saving inital condition\n",
    "    if np.isscalar(x0):\n",
    "        init = x0\n",
    "    else:\n",
    "        init = x0.copy()\n",
    "    \n",
    "    #running Newton's method on scalar function\n",
    "    for alpha in alphas:\n",
    "        #appending number of iterations\n",
    "        break_points.append(newton2(f,x0,Df,tol=tol,maxiter=maxiter,alpha=alpha)[2])\n",
    "        x0 = init\n",
    "    \n",
    "    #plotting iterations vs alphas\n",
    "    plt.plot(alphas,break_points,'r')\n",
    "    plt.scatter(alphas,break_points,color='b',s=20)\n",
    "    plt.title(\"number iterations vs alpha\")\n",
    "    plt.ylabel(\"number of iterations\")\n",
    "    plt.xlabel(\"alpha\")\n",
    "    \n",
    "    #return alpha resulting in minimum number of iterations\n",
    "    return alphas[np.argmin(break_points)]"
   ]
  },
  {
   "cell_type": "code",
   "execution_count": 9,
   "metadata": {},
   "outputs": [
    {
     "name": "stdout",
     "output_type": "stream",
     "text": [
      "0.333\n"
     ]
    },
    {
     "data": {
      "image/png": "[encoded data removed]",
      "text/plain": [
       "<Figure size 432x288 with 1 Axes>"
      ]
     },
     "metadata": {
      "needs_background": "light"
     },
     "output_type": "display_data"
    }
   ],
   "source": [
    "f = lambda x: np.sign(x) * np.power(np.abs(x), 1./3)\n",
    "Df = lambda x: np.power(np.abs(x), -2./3) / 3\n",
    "print(optimal_alpha(f, .01, Df))"
   ]
  },
  {
   "cell_type": "code",
   "execution_count": 10,
   "metadata": {},
   "outputs": [
    {
     "data": {
      "text/plain": [
       "0.333"
      ]
     },
     "execution_count": 10,
     "metadata": {},
     "output_type": "execute_result"
    },
    {
     "data": {
      "image/png": "[encoded data removed]",
      "text/plain": [
       "<Figure size 432x288 with 1 Axes>"
      ]
     },
     "metadata": {
      "needs_background": "light"
     },
     "output_type": "display_data"
    }
   ],
   "source": [
    "optimal_alpha(f,0.01,Df,maxiter=100)"
   ]
  },
  {
   "cell_type": "code",
   "execution_count": 11,
   "metadata": {},
   "outputs": [],
   "source": [
    "g = lambda x: np.array([x[0]*x[1], x[1]*x[2], x[0]-x[1]])\n",
    "Dg = lambda x: np.array([[x[1],x[0],0], [0,x[2],x[1]],[1,-1,0]])\n",
    "x0 = np.array([0.5,0.5,0.5])"
   ]
  },
  {
   "cell_type": "code",
   "execution_count": 12,
   "metadata": {},
   "outputs": [
    {
     "data": {
      "text/plain": [
       "(array([2.9114246e-05, 2.9114246e-05, 2.9114246e-05]), True, 59)"
      ]
     },
     "execution_count": 12,
     "metadata": {},
     "output_type": "execute_result"
    }
   ],
   "source": [
    "newton(g,x0,Dg,alpha=0.3,maxiter=200)"
   ]
  },
  {
   "cell_type": "code",
   "execution_count": 13,
   "metadata": {},
   "outputs": [
    {
     "data": {
      "text/plain": [
       "(array([3.42520541e-05, 3.42520541e-05, 3.42520541e-05]), True, 60)"
      ]
     },
     "execution_count": 13,
     "metadata": {},
     "output_type": "execute_result"
    }
   ],
   "source": [
    "newton2(g,x0,Dg,alpha=0.3,maxiter=200)"
   ]
  },
  {
   "cell_type": "code",
   "execution_count": 15,
   "metadata": {},
   "outputs": [
    {
     "data": {
      "text/plain": [
       "0.972"
      ]
     },
     "execution_count": 15,
     "metadata": {},
     "output_type": "execute_result"
    },
    {
     "data": {
      "image/png": "[encoded data removed]",
      "text/plain": [
       "<Figure size 432x288 with 1 Axes>"
      ]
     },
     "metadata": {
      "needs_background": "light"
     },
     "output_type": "display_data"
    }
   ],
   "source": [
    "optimal_alpha(g,x0,Dg,maxiter=200)"
   ]
  },
  {
   "cell_type": "code",
   "execution_count": 16,
   "metadata": {},
   "outputs": [],
   "source": [
    "# Problem 6\n",
    "def prob6():\n",
    "    \"\"\"Consider the following Bioremediation system.\n",
    "\n",
    "                              5xy − x(1 + y) = 0\n",
    "                        −xy + (1 − y)(1 + y) = 0\n",
    "\n",
    "    Find an initial point such that Newton’s method converges to either\n",
    "    (0,1) or (0,−1) with alpha = 1, and to (3.75, .25) with alpha = 0.55.\n",
    "    Return the intial point as a 1-D NumPy array with 2 entries.\n",
    "    \"\"\"\n",
    "    #defining both functions in the system\n",
    "    f = lambda X:  np.array([5*X[0]*X[1] - X[0]*(1 + X[1]), -X[0]*X[1] + (1-X[1])*(1+X[1])])\n",
    "    Df = lambda X: np.array([[5*X[1]-(1+X[1]),5*X[0] - X[0]],\n",
    "                             [ -X[1],-X[0] - 2*X[1]]  ])\n",
    "    \n",
    "    #defining grid\n",
    "    X = np.linspace(-0.25,0,50)\n",
    "    Y = np.linspace(0,0.25,50)\n",
    "    \n",
    "    P = []\n",
    "    #for each possible combination of x and y coords\n",
    "    for x in X:\n",
    "        for y in Y:\n",
    "            #make into array\n",
    "            pnt = np.array([x,y])\n",
    "            \n",
    "            #if newton method converges for alpha 1...\n",
    "            new_pnt = newton(f,pnt,Df,alpha=1)[0]\n",
    "            if np.allclose(new_pnt,np.array([0,1])) or np.allclose(new_pnt,np.array([0,-1])):\n",
    "                \n",
    "                #check if converges for alpha 0.55\n",
    "                new_new_pnt = newton(f,pnt,Df,alpha=0.55)[0]\n",
    "                if np.allclose(new_new_pnt,np.array([3.75,0.25])):\n",
    "                    return pnt"
   ]
  },
  {
   "cell_type": "code",
   "execution_count": 17,
   "metadata": {},
   "outputs": [
    {
     "data": {
      "text/plain": [
       "array([-0.23979592,  0.21428571])"
      ]
     },
     "execution_count": 17,
     "metadata": {},
     "output_type": "execute_result"
    }
   ],
   "source": [
    "prob6()"
   ]
  },
  {
   "cell_type": "code",
   "execution_count": 18,
   "metadata": {},
   "outputs": [],
   "source": [
    "# Problem 7\n",
    "def plot_basins(f, Df, zeros, domain, res=1000, iters=15):\n",
    "    \"\"\"Plot the basins of attraction of f on the complex plane.\n",
    "\n",
    "    Parameters:\n",
    "        f (function): A function from C to C.\n",
    "        Df (function): The derivative of f, a function from C to C.\n",
    "        zeros (ndarray): A 1-D array of the zeros of f.\n",
    "        domain ([r_min, r_max, i_min, i_max]): A list of scalars that define\n",
    "            the window limits and grid domain for the plot.\n",
    "        res (int): A scalar that determines the resolution of the plot.\n",
    "            The visualized grid has shape (res, res).\n",
    "        iters (int): The exact number of times to iterate Newton's method.\n",
    "    \"\"\"\n",
    "    #creating grid\n",
    "    x_real = np.linspace(domain[0],domain[1],res)\n",
    "    x_imag = np.linspace(domain[2],domain[3],res)\n",
    "    X_real, X_imag = np.meshgrid(x_real, x_imag)\n",
    "    X_0 = X_real + 1j*X_imag\n",
    "    \n",
    "    #running newton's method on X_0\n",
    "    for k in range(iters):\n",
    "        X_k = X_0 - f(X_0)/Df(X_0)\n",
    "        X_0 = X_k\n",
    "    \n",
    "    #populating Y with the nearest zero's index\n",
    "    Y = np.empty((res,res))\n",
    "    for i in range(res):\n",
    "        for j in range(res):\n",
    "            Y[i,j] = np.argmin(abs(X_k[i,j] - zeros))\n",
    "            \n",
    "    plt.pcolormesh(x_real,x_imag,Y,cmap='brg')\n",
    "    plt.show()"
   ]
  },
  {
   "cell_type": "code",
   "execution_count": 19,
   "metadata": {},
   "outputs": [],
   "source": [
    "f = lambda x: x**3 - 1\n",
    "df = lambda x: 3*x**2\n",
    "zeros = [1,-0.5 + np.sqrt(3)/2 *1j,-0.5 - np.sqrt(3)/2 *1j]"
   ]
  },
  {
   "cell_type": "code",
   "execution_count": 20,
   "metadata": {},
   "outputs": [
    {
     "data": {
      "image/png": "[encoded data removed]",
      "text/plain": [
       "<Figure size 432x288 with 1 Axes>"
      ]
     },
     "metadata": {
      "needs_background": "light"
     },
     "output_type": "display_data"
    }
   ],
   "source": [
    "plot_basins(f,df,zeros,domain=[-3/2,3/2,-3/2,3/2])"
   ]
  }
 ],
 "metadata": {
  "kernelspec": {
   "display_name": "Python 3",
   "language": "python",
   "name": "python3"
  },
  "language_info": {
   "codemirror_mode": {
    "name": "ipython",
    "version": 3
   },
   "file_extension": ".py",
   "mimetype": "text/x-python",
   "name": "python",
   "nbconvert_exporter": "python",
   "pygments_lexer": "ipython3",
   "version": "3.7.3"
  }
 },
 "nbformat": 4,
 "nbformat_minor": 4
}
